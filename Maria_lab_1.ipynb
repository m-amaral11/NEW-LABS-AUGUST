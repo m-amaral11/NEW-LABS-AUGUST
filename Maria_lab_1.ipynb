{
 "cells": [
  {
   "attachments": {},
   "cell_type": "markdown",
   "metadata": {
    "tags": []
   },
   "source": [
    "# Lab | Data Structures "
   ]
  },
  {
   "cell_type": "code",
   "execution_count": null,
   "metadata": {},
   "outputs": [],
   "source": []
  },
  {
   "attachments": {},
   "cell_type": "markdown",
   "metadata": {},
   "source": [
    "## Exercise: Managing Customer Orders\n",
    "\n",
    "As part of a business venture, you are starting an online store that sells various products. To ensure smooth operations, you need to develop a program that manages customer orders and inventory.\n",
    "\n",
    "Follow the steps below to complete the exercise:\n",
    "\n",
    "1. Define a list called `products` that contains the following items: \"t-shirt\", \"mug\", \"hat\", \"book\", \"keychain\".\n",
    "\n",
    "2. Create an empty dictionary called `inventory`.\n",
    "\n",
    "3. Ask the user to input the quantity of each product available in the inventory. Use the product names from the `products` list as keys in the `inventory` dictionary and assign the respective quantities as values.\n",
    "\n",
    "4. Create an empty set called `customer_orders`.\n",
    "\n",
    "5. Ask the user to input the name of three products that a customer wants to order (from those in the products list, meaning three products out of \"t-shirt\", \"mug\", \"hat\", \"book\" or \"keychain\". Add each product name to the `customer_orders` set.\n",
    "\n",
    "6. Print the products in the `customer_orders` set.\n",
    "\n",
    "7. Calculate the following order statistics:\n",
    "   - Total Products Ordered: The total number of products in the `customer_orders` set.\n",
    "   - Percentage of Products Ordered: The percentage of products ordered compared to the total available products.\n",
    "   \n",
    "   Store these statistics in a tuple called `order_status`.\n",
    "\n",
    "8. Print the order statistics using the following format:\n",
    "   ```\n",
    "   Order Statistics:\n",
    "   Total Products Ordered: <total_products_ordered>\n",
    "   Percentage of Products Ordered: <percentage_ordered>% \n",
    "   ```\n",
    "\n",
    "9. Update the inventory by subtracting 1 from the quantity of each product. Modify the `inventory` dictionary accordingly.\n",
    "\n",
    "10. Print the updated inventory, displaying the quantity of each product on separate lines.\n",
    "\n",
    "Solve the exercise by implementing the steps using the Python concepts of lists, dictionaries, sets, and basic input/output operations. "
   ]
  },
  {
   "cell_type": "code",
   "execution_count": 3,
   "metadata": {},
   "outputs": [
    {
     "name": "stdout",
     "output_type": "stream",
     "text": [
      "{'t-shirt': 5, 'mug': 6, 'hat': 7, 'book': 8, 'keychain': 9}\n",
      "{'mug', 'hat', 'book'}\n",
      "(3, 8.57)\n",
      "{'t-shirt': 5, 'mug': 5, 'hat': 6, 'book': 7, 'keychain': 9}\n"
     ]
    }
   ],
   "source": [
    "products = [\"t-shirt\", \"mug\", \"hat\", \"book\", \"keychain\"]\n",
    "inventory = {\n",
    "    \n",
    "}\n",
    "tshirt_num = int(input(\"how many t-shirts in the inventory? \"))\n",
    "mug_num = int(input(\"how many mugs in the inventory? \"))\n",
    "hat_num = int(input(\"how many hats in the inventory? \"))\n",
    "book_num = int(input(\"how many books in the inventory? \"))\n",
    "keychain_num = int(input(\"how many keychains in the inventory? \"))\n",
    "\n",
    "inventory = { \"t-shirt\": tshirt_num, \"mug\": mug_num, \"hat\": hat_num, \"book\": book_num, \"keychain\": keychain_num\n",
    "            }\n",
    "print(inventory)\n",
    "\n",
    "customer_orders = ()\n",
    "\n",
    "order1 = input(\"choose product 1 \")\n",
    "order2 = input(\"choose product 2 \")\n",
    "order3 = input(\"choose product 3 \")\n",
    "\n",
    "customer_orders = {order1, order2, order3}\n",
    "print(customer_orders)\n",
    "\n",
    "total_ordered = len(customer_orders)\n",
    "total_inventory = sum(inventory.values())\n",
    "percentage_ordered = round(total_ordered / total_inventory * 100, 2)\n",
    "order_status = (total_ordered, percentage_ordered)\n",
    "\n",
    "print(order_status)\n",
    "\n",
    "inventory.update({product: quantity - 1 for product, quantity in inventory.items() if product in customer_orders})\n",
    "\n",
    "print(inventory)\n"
   ]
  },
  {
   "cell_type": "code",
   "execution_count": null,
   "metadata": {},
   "outputs": [],
   "source": []
  }
 ],
 "metadata": {
  "kernelspec": {
   "display_name": "Python 3 (ipykernel)",
   "language": "python",
   "name": "python3"
  },
  "language_info": {
   "codemirror_mode": {
    "name": "ipython",
    "version": 3
   },
   "file_extension": ".py",
   "mimetype": "text/x-python",
   "name": "python",
   "nbconvert_exporter": "python",
   "pygments_lexer": "ipython3",
   "version": "3.11.3"
  }
 },
 "nbformat": 4,
 "nbformat_minor": 4
}
