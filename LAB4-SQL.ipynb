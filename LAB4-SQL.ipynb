{
 "cells": [
  {
   "cell_type": "code",
   "execution_count": 23,
   "id": "0efbe9bd",
   "metadata": {},
   "outputs": [
    {
     "name": "stdout",
     "output_type": "stream",
     "text": [
      "Requirement already satisfied: pymysql in /Users/mariaamaral/anaconda3/lib/python3.10/site-packages (1.1.0)\n",
      "Your password:········\n",
      "['bank', 'information_schema', 'mysql', 'performance_schema', 'sakila', 'sys']\n"
     ]
    }
   ],
   "source": [
    "!pip install pymysql\n",
    "\n",
    "import pandas as pd\n",
    "import getpass\n",
    "import sqlalchemy as sa\n",
    "from sqlalchemy import create_engine\n",
    "\n",
    "driver = 'mysql+pymysql'\n",
    "user = 'root'\n",
    "password = getpass.getpass(prompt='Your password:'\"\")\n",
    "ip = '127.0.0.1'  \n",
    "\n",
    "connection_string = f'{driver}://{user}:{password}@{ip}/sakila'    \n",
    "connection_string\n",
    "\n",
    "db_connection = sa.create_engine(connection_string)\n",
    "\n",
    "insp = sa.inspect(db_connection)\n",
    "db_list = insp.get_schema_names()\n",
    "print(db_list)\n"
   ]
  },
  {
   "cell_type": "code",
   "execution_count": null,
   "id": "76875688",
   "metadata": {},
   "outputs": [],
   "source": []
  },
  {
   "cell_type": "code",
   "execution_count": 30,
   "id": "62d30994",
   "metadata": {},
   "outputs": [],
   "source": [
    "def rentals_month(engine, month, year):\n",
    "    query = \"SELECT * FROM rental WHERE MONTH(rental_date) = {} AND YEAR(rental_date) = {};\".format(month, year)\n",
    "    rental_month_year = pd.read_sql_query(query, engine)\n",
    "    return rental_month_year"
   ]
  },
  {
   "cell_type": "code",
   "execution_count": 31,
   "id": "71584d7a",
   "metadata": {},
   "outputs": [
    {
     "name": "stdout",
     "output_type": "stream",
     "text": [
      "      rental_id         rental_date  inventory_id  customer_id  \\\n",
      "0             1 2005-05-24 22:53:30           367          130   \n",
      "1             2 2005-05-24 22:54:33          1525          459   \n",
      "2             3 2005-05-24 23:03:39          1711          408   \n",
      "3             4 2005-05-24 23:04:41          2452          333   \n",
      "4             5 2005-05-24 23:05:21          2079          222   \n",
      "...         ...                 ...           ...          ...   \n",
      "1151       1153 2005-05-31 21:36:44          2725          506   \n",
      "1152       1154 2005-05-31 21:42:09          2732           59   \n",
      "1153       1155 2005-05-31 22:17:11          2048          251   \n",
      "1154       1156 2005-05-31 22:37:34           460          106   \n",
      "1155       1157 2005-05-31 22:47:45          1449           61   \n",
      "\n",
      "             return_date  staff_id         last_update  \n",
      "0    2005-05-26 22:04:30         1 2006-02-15 21:30:53  \n",
      "1    2005-05-28 19:40:33         1 2006-02-15 21:30:53  \n",
      "2    2005-06-01 22:12:39         1 2006-02-15 21:30:53  \n",
      "3    2005-06-03 01:43:41         2 2006-02-15 21:30:53  \n",
      "4    2005-06-02 04:33:21         1 2006-02-15 21:30:53  \n",
      "...                  ...       ...                 ...  \n",
      "1151 2005-06-10 01:26:44         2 2006-02-15 21:30:53  \n",
      "1152 2005-06-08 16:40:09         1 2006-02-15 21:30:53  \n",
      "1153 2005-06-04 20:27:11         2 2006-02-15 21:30:53  \n",
      "1154 2005-06-01 23:02:34         2 2006-02-15 21:30:53  \n",
      "1155 2005-06-02 18:01:45         1 2006-02-15 21:30:53  \n",
      "\n",
      "[1156 rows x 7 columns]\n"
     ]
    }
   ],
   "source": [
    "df = rentals_month(db_connection, 5, 2005)\n",
    "print(df)\n",
    "\n",
    "\n"
   ]
  },
  {
   "cell_type": "code",
   "execution_count": null,
   "id": "38662fdd",
   "metadata": {},
   "outputs": [],
   "source": []
  }
 ],
 "metadata": {
  "kernelspec": {
   "display_name": "Python 3 (ipykernel)",
   "language": "python",
   "name": "python3"
  },
  "language_info": {
   "codemirror_mode": {
    "name": "ipython",
    "version": 3
   },
   "file_extension": ".py",
   "mimetype": "text/x-python",
   "name": "python",
   "nbconvert_exporter": "python",
   "pygments_lexer": "ipython3",
   "version": "3.10.9"
  }
 },
 "nbformat": 4,
 "nbformat_minor": 5
}
