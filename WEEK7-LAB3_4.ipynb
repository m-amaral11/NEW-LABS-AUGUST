{
 "cells": [
  {
   "cell_type": "code",
   "execution_count": 1,
   "id": "1f3b78ef",
   "metadata": {},
   "outputs": [
    {
     "data": {
      "text/html": [
       "<div>\n",
       "<style scoped>\n",
       "    .dataframe tbody tr th:only-of-type {\n",
       "        vertical-align: middle;\n",
       "    }\n",
       "\n",
       "    .dataframe tbody tr th {\n",
       "        vertical-align: top;\n",
       "    }\n",
       "\n",
       "    .dataframe thead th {\n",
       "        text-align: right;\n",
       "    }\n",
       "</style>\n",
       "<table border=\"1\" class=\"dataframe\">\n",
       "  <thead>\n",
       "    <tr style=\"text-align: right;\">\n",
       "      <th></th>\n",
       "      <th>gender</th>\n",
       "      <th>SeniorCitizen</th>\n",
       "      <th>Partner</th>\n",
       "      <th>Dependents</th>\n",
       "      <th>tenure</th>\n",
       "      <th>PhoneService</th>\n",
       "      <th>OnlineSecurity</th>\n",
       "      <th>OnlineBackup</th>\n",
       "      <th>DeviceProtection</th>\n",
       "      <th>TechSupport</th>\n",
       "      <th>StreamingTV</th>\n",
       "      <th>StreamingMovies</th>\n",
       "      <th>Contract</th>\n",
       "      <th>MonthlyCharges</th>\n",
       "      <th>TotalCharges</th>\n",
       "      <th>Churn</th>\n",
       "    </tr>\n",
       "  </thead>\n",
       "  <tbody>\n",
       "    <tr>\n",
       "      <th>0</th>\n",
       "      <td>Female</td>\n",
       "      <td>0</td>\n",
       "      <td>Yes</td>\n",
       "      <td>No</td>\n",
       "      <td>1</td>\n",
       "      <td>No</td>\n",
       "      <td>No</td>\n",
       "      <td>Yes</td>\n",
       "      <td>No</td>\n",
       "      <td>No</td>\n",
       "      <td>No</td>\n",
       "      <td>No</td>\n",
       "      <td>Month-to-month</td>\n",
       "      <td>29.85</td>\n",
       "      <td>29.85</td>\n",
       "      <td>No</td>\n",
       "    </tr>\n",
       "    <tr>\n",
       "      <th>1</th>\n",
       "      <td>Male</td>\n",
       "      <td>0</td>\n",
       "      <td>No</td>\n",
       "      <td>No</td>\n",
       "      <td>34</td>\n",
       "      <td>Yes</td>\n",
       "      <td>Yes</td>\n",
       "      <td>No</td>\n",
       "      <td>Yes</td>\n",
       "      <td>No</td>\n",
       "      <td>No</td>\n",
       "      <td>No</td>\n",
       "      <td>One year</td>\n",
       "      <td>56.95</td>\n",
       "      <td>1889.5</td>\n",
       "      <td>No</td>\n",
       "    </tr>\n",
       "    <tr>\n",
       "      <th>2</th>\n",
       "      <td>Male</td>\n",
       "      <td>0</td>\n",
       "      <td>No</td>\n",
       "      <td>No</td>\n",
       "      <td>2</td>\n",
       "      <td>Yes</td>\n",
       "      <td>Yes</td>\n",
       "      <td>Yes</td>\n",
       "      <td>No</td>\n",
       "      <td>No</td>\n",
       "      <td>No</td>\n",
       "      <td>No</td>\n",
       "      <td>Month-to-month</td>\n",
       "      <td>53.85</td>\n",
       "      <td>108.15</td>\n",
       "      <td>Yes</td>\n",
       "    </tr>\n",
       "    <tr>\n",
       "      <th>3</th>\n",
       "      <td>Male</td>\n",
       "      <td>0</td>\n",
       "      <td>No</td>\n",
       "      <td>No</td>\n",
       "      <td>45</td>\n",
       "      <td>No</td>\n",
       "      <td>Yes</td>\n",
       "      <td>No</td>\n",
       "      <td>Yes</td>\n",
       "      <td>Yes</td>\n",
       "      <td>No</td>\n",
       "      <td>No</td>\n",
       "      <td>One year</td>\n",
       "      <td>42.30</td>\n",
       "      <td>1840.75</td>\n",
       "      <td>No</td>\n",
       "    </tr>\n",
       "    <tr>\n",
       "      <th>4</th>\n",
       "      <td>Female</td>\n",
       "      <td>0</td>\n",
       "      <td>No</td>\n",
       "      <td>No</td>\n",
       "      <td>2</td>\n",
       "      <td>Yes</td>\n",
       "      <td>No</td>\n",
       "      <td>No</td>\n",
       "      <td>No</td>\n",
       "      <td>No</td>\n",
       "      <td>No</td>\n",
       "      <td>No</td>\n",
       "      <td>Month-to-month</td>\n",
       "      <td>70.70</td>\n",
       "      <td>151.65</td>\n",
       "      <td>Yes</td>\n",
       "    </tr>\n",
       "  </tbody>\n",
       "</table>\n",
       "</div>"
      ],
      "text/plain": [
       "   gender  SeniorCitizen Partner Dependents  tenure PhoneService  \\\n",
       "0  Female              0     Yes         No       1           No   \n",
       "1    Male              0      No         No      34          Yes   \n",
       "2    Male              0      No         No       2          Yes   \n",
       "3    Male              0      No         No      45           No   \n",
       "4  Female              0      No         No       2          Yes   \n",
       "\n",
       "  OnlineSecurity OnlineBackup DeviceProtection TechSupport StreamingTV  \\\n",
       "0             No          Yes               No          No          No   \n",
       "1            Yes           No              Yes          No          No   \n",
       "2            Yes          Yes               No          No          No   \n",
       "3            Yes           No              Yes         Yes          No   \n",
       "4             No           No               No          No          No   \n",
       "\n",
       "  StreamingMovies        Contract  MonthlyCharges TotalCharges Churn  \n",
       "0              No  Month-to-month           29.85        29.85    No  \n",
       "1              No        One year           56.95       1889.5    No  \n",
       "2              No  Month-to-month           53.85       108.15   Yes  \n",
       "3              No        One year           42.30      1840.75    No  \n",
       "4              No  Month-to-month           70.70       151.65   Yes  "
      ]
     },
     "execution_count": 1,
     "metadata": {},
     "output_type": "execute_result"
    }
   ],
   "source": [
    "import pandas as pd\n",
    "churnData = pd.read_csv('DATA_Customer-Churn.csv')\n",
    "churnData.head()"
   ]
  },
  {
   "cell_type": "code",
   "execution_count": 2,
   "id": "2094dba1",
   "metadata": {},
   "outputs": [
    {
     "data": {
      "text/plain": [
       "gender               object\n",
       "SeniorCitizen         int64\n",
       "Partner              object\n",
       "Dependents           object\n",
       "tenure                int64\n",
       "PhoneService         object\n",
       "OnlineSecurity       object\n",
       "OnlineBackup         object\n",
       "DeviceProtection     object\n",
       "TechSupport          object\n",
       "StreamingTV          object\n",
       "StreamingMovies      object\n",
       "Contract             object\n",
       "MonthlyCharges      float64\n",
       "TotalCharges         object\n",
       "Churn                object\n",
       "dtype: object"
      ]
     },
     "execution_count": 2,
     "metadata": {},
     "output_type": "execute_result"
    }
   ],
   "source": [
    "churnData.dtypes"
   ]
  },
  {
   "cell_type": "code",
   "execution_count": 3,
   "id": "50c6a94c",
   "metadata": {},
   "outputs": [
    {
     "name": "stdout",
     "output_type": "stream",
     "text": [
      "0    5174\n",
      "1    1869\n",
      "Name: Churn, dtype: int64\n"
     ]
    }
   ],
   "source": [
    "churnData['TotalCharges'] = pd.to_numeric(churnData['TotalCharges'], errors='coerce')\n",
    "churnData['Churn'] = churnData['Churn'].apply(lambda x: 1 if x == 'Yes' else 0)\n",
    "print(churnData['Churn'].value_counts())"
   ]
  },
  {
   "cell_type": "code",
   "execution_count": 4,
   "id": "9ecc0ca2",
   "metadata": {},
   "outputs": [],
   "source": [
    "churnData.isna().sum()\n",
    "churnData = churnData.dropna()"
   ]
  },
  {
   "cell_type": "code",
   "execution_count": 5,
   "id": "70f7b7af",
   "metadata": {},
   "outputs": [
    {
     "data": {
      "text/html": [
       "<div>\n",
       "<style scoped>\n",
       "    .dataframe tbody tr th:only-of-type {\n",
       "        vertical-align: middle;\n",
       "    }\n",
       "\n",
       "    .dataframe tbody tr th {\n",
       "        vertical-align: top;\n",
       "    }\n",
       "\n",
       "    .dataframe thead th {\n",
       "        text-align: right;\n",
       "    }\n",
       "</style>\n",
       "<table border=\"1\" class=\"dataframe\">\n",
       "  <thead>\n",
       "    <tr style=\"text-align: right;\">\n",
       "      <th></th>\n",
       "      <th>Error_metric</th>\n",
       "      <th>Train</th>\n",
       "      <th>Test</th>\n",
       "    </tr>\n",
       "  </thead>\n",
       "  <tbody>\n",
       "    <tr>\n",
       "      <th>0</th>\n",
       "      <td>Accuracy</td>\n",
       "      <td>0.795378</td>\n",
       "      <td>0.781805</td>\n",
       "    </tr>\n",
       "    <tr>\n",
       "      <th>1</th>\n",
       "      <td>Precision</td>\n",
       "      <td>0.667641</td>\n",
       "      <td>0.630350</td>\n",
       "    </tr>\n",
       "    <tr>\n",
       "      <th>2</th>\n",
       "      <td>Recall</td>\n",
       "      <td>0.458194</td>\n",
       "      <td>0.433155</td>\n",
       "    </tr>\n",
       "  </tbody>\n",
       "</table>\n",
       "</div>"
      ],
      "text/plain": [
       "  Error_metric     Train      Test\n",
       "0     Accuracy  0.795378  0.781805\n",
       "1    Precision  0.667641  0.630350\n",
       "2       Recall  0.458194  0.433155"
      ]
     },
     "metadata": {},
     "output_type": "display_data"
    }
   ],
   "source": [
    "from sklearn.linear_model import LogisticRegression\n",
    "from sklearn.model_selection import train_test_split\n",
    "from sklearn.preprocessing import PowerTransformer\n",
    "from sklearn.metrics import accuracy_score, precision_score, recall_score, confusion_matrix\n",
    "\n",
    "log_model = LogisticRegression() \n",
    "\n",
    "## Data splitting\n",
    "features = churnData[['tenure', 'SeniorCitizen', 'MonthlyCharges', 'TotalCharges']]\n",
    "target = churnData['Churn']\n",
    "\n",
    "X_train, X_test, y_train, y_test = train_test_split(features, target, test_size=0.2, random_state=42)\n",
    "\n",
    "pt = PowerTransformer()\n",
    "pt.fit(X_train)\n",
    "X_train_log = pt.transform(X_train)\n",
    "X_test_log = pt.transform(X_test)\n",
    "\n",
    "#where the magic happens\n",
    "\n",
    "log_model.fit(X_train_log, y_train)\n",
    "\n",
    "y_pred_train_log = log_model.predict(X_train_log)\n",
    "y_pred_test_log = log_model.predict(X_test_log)\n",
    "\n",
    "performance_log = pd.DataFrame({'Error_metric': ['Accuracy','Precision','Recall'],\n",
    "                               'Train': [accuracy_score(y_train, y_pred_train_log),\n",
    "                                         precision_score(y_train, y_pred_train_log),\n",
    "                                         recall_score(y_train, y_pred_train_log)],\n",
    "                               'Test': [accuracy_score(y_test, y_pred_test_log),\n",
    "                                        precision_score(y_test, y_pred_test_log),\n",
    "                                        recall_score(y_test, y_pred_test_log)]})\n",
    "\n",
    "display(performance_log)\n",
    "\n"
   ]
  },
  {
   "cell_type": "code",
   "execution_count": 6,
   "id": "648004d9",
   "metadata": {
    "scrolled": true
   },
   "outputs": [
    {
     "name": "stdout",
     "output_type": "stream",
     "text": [
      "0    5163\n",
      "1    1869\n",
      "Name: Churn, dtype: int64\n"
     ]
    }
   ],
   "source": [
    "print(churnData['Churn'].value_counts())\n"
   ]
  },
  {
   "cell_type": "code",
   "execution_count": 7,
   "id": "8c783e7a",
   "metadata": {},
   "outputs": [
    {
     "data": {
      "text/plain": [
       "<sklearn.metrics._plot.confusion_matrix.ConfusionMatrixDisplay at 0x7fb9b8d45de0>"
      ]
     },
     "execution_count": 7,
     "metadata": {},
     "output_type": "execute_result"
    },
    {
     "data": {
      "image/png": "[encoded data removed]",
      "text/plain": [
       "<Figure size 640x480 with 2 Axes>"
      ]
     },
     "metadata": {},
     "output_type": "display_data"
    }
   ],
   "source": [
    "from sklearn.metrics import confusion_matrix, ConfusionMatrixDisplay\n",
    "\n",
    "cm_train = confusion_matrix(y_train, y_pred_train_log, labels = log_model.classes_)\n",
    "disp = ConfusionMatrixDisplay(cm_train)\n",
    "disp.plot()"
   ]
  },
  {
   "cell_type": "code",
   "execution_count": 8,
   "id": "ce31fe62",
   "metadata": {},
   "outputs": [
    {
     "data": {
      "text/plain": [
       "<sklearn.metrics._plot.confusion_matrix.ConfusionMatrixDisplay at 0x7fb9b969a3e0>"
      ]
     },
     "execution_count": 8,
     "metadata": {},
     "output_type": "execute_result"
    },
    {
     "data": {
      "image/png": "[encoded data removed]",
      "text/plain": [
       "<Figure size 640x480 with 2 Axes>"
      ]
     },
     "metadata": {},
     "output_type": "display_data"
    }
   ],
   "source": [
    "cm_test = confusion_matrix(y_test, y_pred_test_log, labels = log_model.classes_)\n",
    "disp_test = ConfusionMatrixDisplay(cm_test)\n",
    "disp_test.plot()"
   ]
  },
  {
   "cell_type": "code",
   "execution_count": 9,
   "id": "5d4aaca2",
   "metadata": {},
   "outputs": [
    {
     "data": {
      "image/png": "[encoded data removed]",
      "text/plain": [
       "<Figure size 640x480 with 1 Axes>"
      ]
     },
     "metadata": {},
     "output_type": "display_data"
    },
    {
     "name": "stdout",
     "output_type": "stream",
     "text": [
      "Best k value: 10\n"
     ]
    }
   ],
   "source": [
    "import matplotlib.pyplot as plt\n",
    "from sklearn.neighbors import KNeighborsClassifier\n",
    "\n",
    "# list to store the results\n",
    "results = []\n",
    "\n",
    "# loop through different values of k\n",
    "for k in range(1, 21):\n",
    "    knn_model = KNeighborsClassifier(n_neighbors=k)\n",
    "    knn_model.fit(X_train_log, y_train)\n",
    "    y_pred_test_knn = knn_model.predict(X_test_log)\n",
    "    accuracy = accuracy_score(y_test, y_pred_test_knn)\n",
    "    results.append(accuracy)\n",
    "\n",
    "# plot the results\n",
    "plt.plot(range(1, 21), results)\n",
    "plt.xlabel('Number of Neighbors (k)')\n",
    "plt.ylabel('Accuracy')\n",
    "plt.title('KNN Accuracy for different k values')\n",
    "plt.show()\n",
    "\n",
    "best_k = results.index(max(results)) + 1\n",
    "\n",
    "print(\"Best k value:\", best_k)"
   ]
  },
  {
   "cell_type": "code",
   "execution_count": 10,
   "id": "1d09f339",
   "metadata": {},
   "outputs": [
    {
     "name": "stdout",
     "output_type": "stream",
     "text": [
      "Accuracy: 0.7924662402274343\n",
      "Precision: 0.6680327868852459\n",
      "Recall: 0.4358288770053476\n",
      "Confusion Matrix:\n",
      "[[952  81]\n",
      " [211 163]]\n"
     ]
    }
   ],
   "source": [
    "knn_model = KNeighborsClassifier(n_neighbors=10)\n",
    "knn_model.fit(X_train_log, y_train)\n",
    "\n",
    "y_pred_train_knn = knn_model.predict(X_train_log)\n",
    "y_pred_test_knn = knn_model.predict(X_test_log)\n",
    "\n",
    "def print_model_analysis(true, pred):\n",
    "    print('Accuracy:', accuracy_score(true, pred))\n",
    "    print('Precision:', precision_score(true, pred))\n",
    "    print('Recall:', recall_score(true, pred))\n",
    "    print('Confusion Matrix:')\n",
    "    print(confusion_matrix(true, pred))\n",
    "\n",
    "print_model_analysis(y_test, y_pred_test_knn)\n"
   ]
  },
  {
   "cell_type": "code",
   "execution_count": 11,
   "id": "216e8d84",
   "metadata": {},
   "outputs": [
    {
     "name": "stdout",
     "output_type": "stream",
     "text": [
      "Decision Tree Test Accuracy: 0.7249466950959488\n",
      "Logistic Regression average accuracy after K-fold CV: 0.7915231394672184\n",
      "KNN average accuracy after K-fold CV: 0.7855525830854779\n",
      "Decision Tree average accuracy after K-fold CV: 0.7165807254623043\n",
      "Random Forest Test Accuracy: 0.757640369580668\n",
      "Fitting 3 folds for each of 144 candidates, totalling 432 fits\n",
      "Best parameters from GridSearch: {'max_depth': 10, 'min_samples_leaf': 4, 'min_samples_split': 10, 'n_estimators': 50}\n",
      "Best accuracy from GridSearch: 0.7893333333333333\n",
      "0    5163\n",
      "1    1869\n",
      "Name: Churn, dtype: int64\n",
      "Random Forest Accuracy on Upsampled Data: 0.8867376573088093\n",
      "Random Forest Accuracy on Downsampled Data: 0.7232620320855615\n"
     ]
    }
   ],
   "source": [
    "# Importing necessary libraries\n",
    "from sklearn.tree import DecisionTreeClassifier\n",
    "from sklearn.model_selection import cross_val_score, GridSearchCV\n",
    "from sklearn.ensemble import RandomForestClassifier\n",
    "from sklearn.utils import resample\n",
    "\n",
    "# For visualization\n",
    "import matplotlib.pyplot as plt\n",
    "import seaborn as sns\n",
    "\n",
    "# Setting up a random seed for reproducibility\n",
    "RANDOM_SEED = 42\n",
    "\n",
    "# ROUND 2\n",
    "\n",
    "# 1. Fit a Decision Tree Classifier\n",
    "dt_model = DecisionTreeClassifier(random_state=RANDOM_SEED)\n",
    "dt_model.fit(X_train_log, y_train)\n",
    "\n",
    "# 2. Check the accuracy on the test data\n",
    "y_pred_dt = dt_model.predict(X_test_log)\n",
    "print(\"Decision Tree Test Accuracy:\", accuracy_score(y_test, y_pred_dt))\n",
    "\n",
    "# ROUND 3\n",
    "\n",
    "# 1. Apply K-fold cross validation on your models (Logistic, KNN, Decision Tree)\n",
    "models = [log_model, knn_model, dt_model]\n",
    "model_names = ['Logistic Regression', 'KNN', 'Decision Tree']\n",
    "\n",
    "for model, name in zip(models, model_names):\n",
    "    scores = cross_val_score(model, features, target, cv=10, scoring=\"accuracy\")\n",
    "    print(f\"{name} average accuracy after K-fold CV: {scores.mean()}\")\n",
    "\n",
    "# ROUND 4\n",
    "\n",
    "# 1. Fit a Random Forest Classifier\n",
    "rf_model = RandomForestClassifier(random_state=RANDOM_SEED)\n",
    "rf_model.fit(X_train_log, y_train)\n",
    "\n",
    "# Check the accuracy\n",
    "y_pred_rf = rf_model.predict(X_test_log)\n",
    "print(\"Random Forest Test Accuracy:\", accuracy_score(y_test, y_pred_rf))\n",
    "\n",
    "# 2. Tune the hyperparameters with GridSearch\n",
    "param_grid = {\n",
    "    'n_estimators': [10, 50, 100, 200],\n",
    "    'max_depth': [None, 10, 20, 30],\n",
    "    'min_samples_split': [2, 5, 10],\n",
    "    'min_samples_leaf': [1, 2, 4]\n",
    "}\n",
    "\n",
    "grid_search = GridSearchCV(estimator=rf_model, param_grid=param_grid, \n",
    "                           cv=3, n_jobs=-1, verbose=2, scoring='accuracy')\n",
    "grid_search.fit(X_train_log, y_train)\n",
    "\n",
    "# Display the best parameters from the grid search\n",
    "print(\"Best parameters from GridSearch:\", grid_search.best_params_)\n",
    "print(\"Best accuracy from GridSearch:\", grid_search.best_score_)\n",
    "\n",
    "# Managing imbalance in the dataset\n",
    "\n",
    "# 1. Check for the imbalance\n",
    "print(churnData['Churn'].value_counts())\n",
    "\n",
    "# 2. Resampling strategies: Here, I'm demonstrating both upsampling and downsampling\n",
    "\n",
    "# Upsampling\n",
    "minority = churnData[churnData['Churn'] == 1]\n",
    "majority = churnData[churnData['Churn'] == 0]\n",
    "\n",
    "minority_upsampled = resample(minority, replace=True, n_samples=len(majority), random_state=RANDOM_SEED)\n",
    "upsampled = pd.concat([majority, minority_upsampled])\n",
    "\n",
    "# Downsampling\n",
    "majority_downsampled = resample(majority, replace=False, n_samples=len(minority), random_state=RANDOM_SEED)\n",
    "downsampled = pd.concat([minority, majority_downsampled])\n",
    "\n",
    "# 3. Fit the model for both upsampled and downsampled data and check accuracy\n",
    "\n",
    "# Here, I'm demonstrating for RandomForest but it can be applied to other models as well\n",
    "\n",
    "# For upsampled\n",
    "X_up = upsampled[['tenure', 'SeniorCitizen', 'MonthlyCharges', 'TotalCharges']]\n",
    "y_up = upsampled['Churn']\n",
    "X_train_up, X_test_up, y_train_up, y_test_up = train_test_split(X_up, y_up, test_size=0.2, random_state=RANDOM_SEED)\n",
    "\n",
    "# Transform the data\n",
    "X_train_up_log = pt.transform(X_train_up)\n",
    "X_test_up_log = pt.transform(X_test_up)\n",
    "\n",
    "rf_model.fit(X_train_up_log, y_train_up)\n",
    "y_pred_up = rf_model.predict(X_test_up_log)\n",
    "print(\"Random Forest Accuracy on Upsampled Data:\", accuracy_score(y_test_up, y_pred_up))\n",
    "\n",
    "# For downsampled\n",
    "X_down = downsampled[['tenure', 'SeniorCitizen', 'MonthlyCharges', 'TotalCharges']]\n",
    "y_down = downsampled['Churn']\n",
    "X_train_down, X_test_down, y_train_down, y_test_down = train_test_split(X_down, y_down, test_size=0.2, random_state=RANDOM_SEED)\n",
    "\n",
    "# Transform the data\n",
    "X_train_down_log = pt.transform(X_train_down)\n",
    "X_test_down_log = pt.transform(X_test_down)\n",
    "\n",
    "rf_model.fit(X_train_down_log, y_train_down)\n",
    "y_pred_down = rf_model.predict(X_test_down_log)\n",
    "print(\"Random Forest Accuracy on Downsampled Data:\", accuracy_score(y_test_down, y_pred_down))\n"
   ]
  },
  {
   "cell_type": "code",
   "execution_count": null,
   "id": "22eabbe7",
   "metadata": {},
   "outputs": [],
   "source": []
  }
 ],
 "metadata": {
  "kernelspec": {
   "display_name": "Python 3 (ipykernel)",
   "language": "python",
   "name": "python3"
  },
  "language_info": {
   "codemirror_mode": {
    "name": "ipython",
    "version": 3
   },
   "file_extension": ".py",
   "mimetype": "text/x-python",
   "name": "python",
   "nbconvert_exporter": "python",
   "pygments_lexer": "ipython3",
   "version": "3.10.9"
  }
 },
 "nbformat": 4,
 "nbformat_minor": 5
}
