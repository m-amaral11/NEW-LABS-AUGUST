{
 "cells": [
  {
   "cell_type": "markdown",
   "id": "d3bfc191-8885-42ee-b0a0-bbab867c6f9f",
   "metadata": {
    "tags": []
   },
   "source": [
    "# Lab | Flow Control"
   ]
  },
  {
   "cell_type": "markdown",
   "id": "3851fcd1-cf98-4653-9c89-e003b7ec9400",
   "metadata": {},
   "source": [
    "## Exercise: Managing Customer Orders Optimized\n",
    "\n",
    "In the last lab, you were starting an online store that sells various products. To ensure smooth operations, you developed a program that manages customer orders and inventory.\n",
    "\n",
    "You did so without using flow control. Let's go a step further and improve this code.\n",
    "\n",
    "Follow the steps below to complete the exercise:\n",
    "\n",
    "1. Look at your code from the lab data structures, and improve repeated code with loops.\n",
    "\n",
    "2. Instead of asking the user to input the name of three products that a customer wants to order, do the following:\n",
    "    \n",
    "    a. Prompt the user to enter the name of a product that a customer wants to order.\n",
    "    \n",
    "    b. Add the product name to the \"customer_orders\" set.\n",
    "    \n",
    "    c. Ask the user if they want to add another product (yes/no).\n",
    "    \n",
    "    d. Continue the loop until the user does not want to add another product.\n",
    "\n",
    "3. Instead of updating the inventory by subtracting 1 from the quantity of each product, only do it for  the products that were ordered (those in \"customer_orders\")."
   ]
  },
  {
   "cell_type": "code",
   "execution_count": 16,
   "id": "f64fb0d0",
   "metadata": {},
   "outputs": [
    {
     "name": "stdout",
     "output_type": "stream",
     "text": [
      "How many t-shirts in the inventory? 10\n",
      "How many mugs in the inventory? 10\n",
      "How many hats in the inventory? 10\n",
      "How many books in the inventory? 10\n",
      "How many keychains in the inventory? 10\n",
      "Inventory: {'t-shirt': 10, 'mug': 10, 'hat': 10, 'book': 10, 'keychain': 10} inventory amount:  50\n",
      "Choose a product from this list: ['t-shirt', 'mug', 'hat', 'book', 'keychain']mug\n",
      "Do you want to add another product? (yes/no): yes\n",
      "Choose a product from this list: ['t-shirt', 'mug', 'hat', 'book', 'keychain']hat\n",
      "Do you want to add another product? (yes/no): yes\n",
      "Choose a product from this list: ['t-shirt', 'mug', 'hat', 'book', 'keychain']book\n",
      "Do you want to add another product? (yes/no): yes\n",
      "Choose a product from this list: ['t-shirt', 'mug', 'hat', 'book', 'keychain']t-shirt\n",
      "Do you want to add another product? (yes/no): yes\n",
      "Choose a product from this list: ['t-shirt', 'mug', 'hat', 'book', 'keychain']keychain\n",
      "Do you want to add another product? (yes/no): no\n",
      "Customer Orders: {'t-shirt', 'hat', 'book', 'keychain', 'mug'}\n",
      "Order Status: ('total items ordered: ', 5, 'percentage of products ordered ', 10.0)\n",
      "Updated Inventory: {'t-shirt': 9, 'mug': 9, 'hat': 9, 'book': 9, 'keychain': 9}\n"
     ]
    }
   ],
   "source": [
    "products = [\"t-shirt\", \"mug\", \"hat\", \"book\", \"keychain\"]\n",
    "\n",
    "inventory = {product: int(input(f\"How many {product}s in the inventory? \")) for product in products}\n",
    "\n",
    "total_items_in_inventory = sum(inventory.values())\n",
    "\n",
    "print(\"Inventory:\", inventory, \"inventory amount: \", total_items_in_inventory)\n",
    "\n",
    "customer_orders = set()\n",
    "\n",
    "add_more_products = True\n",
    "while add_more_products:\n",
    "    order = input(\"Choose a product from this list: {}\".format(products))\n",
    "\n",
    "    if order in inventory:\n",
    "        customer_orders.add(order)\n",
    "        while True:\n",
    "            add_more = input(\"Do you want to add another product? (yes/no): \")\n",
    "            if add_more == \"yes\":\n",
    "                break\n",
    "            elif add_more == \"no\":\n",
    "                add_more_products = False\n",
    "                break\n",
    "            else:\n",
    "                print(\"Invalid input. Please enter 'yes' or 'no'.\")\n",
    "    else:\n",
    "        print(f\"{order} is not in the inventory. Please choose a valid product.\")\n",
    "\n",
    "print(\"Customer Orders:\", customer_orders)\n",
    "\n",
    "total_ordered = len(customer_orders)\n",
    "\n",
    "percentage_ordered = round(total_ordered / total_items_in_inventory * 100, 2)\n",
    "\n",
    "order_status = (\"total items ordered: \", total_ordered, \"percentage of products ordered \", percentage_ordered)\n",
    "\n",
    "print(\"Order Status:\", order_status)\n",
    "\n",
    "for order in customer_orders:\n",
    "    inventory[order] -= 1\n",
    "\n",
    "print(\"Updated Inventory:\", inventory)\n"
   ]
  },
  {
   "cell_type": "code",
   "execution_count": null,
   "id": "a9d4e24e",
   "metadata": {},
   "outputs": [],
   "source": []
  }
 ],
 "metadata": {
  "kernelspec": {
   "display_name": "Python 3 (ipykernel)",
   "language": "python",
   "name": "python3"
  },
  "language_info": {
   "codemirror_mode": {
    "name": "ipython",
    "version": 3
   },
   "file_extension": ".py",
   "mimetype": "text/x-python",
   "name": "python",
   "nbconvert_exporter": "python",
   "pygments_lexer": "ipython3",
   "version": "3.10.9"
  }
 },
 "nbformat": 4,
 "nbformat_minor": 5
}
